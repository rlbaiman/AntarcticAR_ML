{
 "cells": [
  {
   "cell_type": "code",
   "execution_count": 2,
   "metadata": {},
   "outputs": [],
   "source": [
    "# Import necessary libraries\n",
    "import numpy as np\n",
    "import xarray as xr\n",
    "import pandas as pd\n",
    "import matplotlib.pyplot as plt"
   ]
  },
  {
   "cell_type": "code",
   "execution_count": 3,
   "metadata": {},
   "outputs": [],
   "source": [
    "#2d input data for neural network algorithms\n",
    "train_data = xr.open_mfdataset('/pl/active/ATOC_SynopticMet/data/ar_data/Research3/ML_testing/3yr/ds_train.nc')\n",
    "validate_data = xr.open_mfdataset('/pl/active/ATOC_SynopticMet/data/ar_data/Research3/ML_testing/3yr/ds_validate.nc')\n",
    "test_data = xr.open_mfdataset('/pl/active/ATOC_SynopticMet/data/ar_data/Research3/ML_testing/3yr/ds_test.nc')\n"
   ]
  },
  {
   "cell_type": "code",
   "execution_count": 7,
   "metadata": {},
   "outputs": [],
   "source": [
    "train_ars = np.array(train_data.label_1d_AR)\n",
    "test_ars = np.array(test_data.label_1d_AR)\n",
    "validate_ars = np.array(validate_data.label_1d_AR)"
   ]
  },
  {
   "cell_type": "code",
   "execution_count": 42,
   "metadata": {},
   "outputs": [
    {
     "name": "stdout",
     "output_type": "stream",
     "text": [
      "Num ARs in training: 561 out of 3507 timesteps\n",
      "Num ARs in testing: 77 out of 439 timesteps\n",
      "Num ARs in validating: 66 out of 438 timesteps\n"
     ]
    }
   ],
   "source": [
    "print(\n",
    "'Num ARs in training: '+str(len(train_ars[train_ars==1]))+' out of '+str(len(train_ars))+' timesteps'+ \n",
    "'\\nNum ARs in testing: '+str(len(test_ars[test_ars==1]))+' out of '+str(len(test_ars))+' timesteps'+   \n",
    "'\\nNum ARs in validating: '+str(len(validate_ars[validate_ars==1]))+' out of '+str(len(validate_ars))+' timesteps')"
   ]
  },
  {
   "cell_type": "code",
   "execution_count": 41,
   "metadata": {},
   "outputs": [
    {
     "name": "stdout",
     "output_type": "stream",
     "text": [
      "% ARs in training 16.0\n",
      "% ARs in testing 18.0\n",
      "% ARs in validating 15.0\n"
     ]
    }
   ],
   "source": [
    "print(\n",
    "'% ARs in training: '+str(np.round(100*len(train_ars[train_ars==1])/len(train_ars)))+ \n",
    "'\\n% ARs in testing: '+str(np.round(100*len(test_ars[test_ars==1])/len(test_ars)))+   \n",
    "'\\n% ARs in validating: '+str(np.round(100*len(validate_ars[validate_ars==1])/len(validate_ars))))"
   ]
  },
  {
   "cell_type": "markdown",
   "metadata": {},
   "source": [
    "## Next steps: Make 1d data to use for traditional ml (figure out how to flatten lat lon in uniform way)"
   ]
  },
  {
   "cell_type": "code",
   "execution_count": 73,
   "metadata": {},
   "outputs": [],
   "source": [
    "# Make 1d data to use for traditional ml\n",
    "\n",
    "X_validate_1d =  [np.reshape(validate_data.features[i].values, (len(validate_data.time), len(validate_data.lon)*len(validate_data.lat)))for i in range(len(validate_data.n_channel))] "
   ]
  },
  {
   "cell_type": "code",
   "execution_count": 76,
   "metadata": {},
   "outputs": [
    {
     "data": {
      "text/plain": [
       "(8, 146, 32851)"
      ]
     },
     "execution_count": 76,
     "metadata": {},
     "output_type": "execute_result"
    }
   ],
   "source": [
    "np.shape(X_validate_1d)"
   ]
  },
  {
   "cell_type": "code",
   "execution_count": 72,
   "metadata": {},
   "outputs": [
    {
     "data": {
      "text/plain": [
       "32851"
      ]
     },
     "execution_count": 72,
     "metadata": {},
     "output_type": "execute_result"
    }
   ],
   "source": [
    "len(validate_data.lon)*len(validate_data.lat)"
   ]
  },
  {
   "cell_type": "code",
   "execution_count": 74,
   "metadata": {},
   "outputs": [
    {
     "data": {
      "text/plain": [
       "array([[4983.24  , 4983.24  , 4983.24  , ..., 4983.24  , 4983.24  ,\n",
       "        4983.24  ],\n",
       "       [4983.24  , 4983.24  , 4983.24  , ..., 4983.24  , 4983.24  ,\n",
       "        4983.24  ],\n",
       "       [4983.24  , 4983.24  , 4983.24  , ..., 4981.365 , 4981.365 ,\n",
       "        4981.49  ],\n",
       "       ...,\n",
       "       [5845.8643, 5848.664 , 5850.139 , ...,       nan,       nan,\n",
       "              nan],\n",
       "       [      nan,       nan,       nan, ...,       nan,       nan,\n",
       "              nan],\n",
       "       [      nan,       nan,       nan, ...,       nan,       nan,\n",
       "              nan]], dtype=float32)"
      ]
     },
     "execution_count": 74,
     "metadata": {},
     "output_type": "execute_result"
    }
   ],
   "source": [
    "np.reshape(validate_data.features[0].values, (32851,146))"
   ]
  },
  {
   "cell_type": "markdown",
   "metadata": {},
   "source": [
    "# Re-train using traditional ML \n",
    "\n",
    "From notebook /projects/reba1583/Research3/WAF_ML_Tutorial_Part2/jupyter_notebooks/Notebook03_Retrain_Traditional_ML.ipynb"
   ]
  },
  {
   "cell_type": "code",
   "execution_count": 60,
   "metadata": {},
   "outputs": [
    {
     "data": {
      "text/plain": [
       "8"
      ]
     },
     "execution_count": 60,
     "metadata": {},
     "output_type": "execute_result"
    }
   ],
   "source": [
    "len(train_data.n_channel)"
   ]
  },
  {
   "cell_type": "code",
   "execution_count": null,
   "metadata": {},
   "outputs": [],
   "source": []
  },
  {
   "cell_type": "code",
   "execution_count": null,
   "metadata": {},
   "outputs": [],
   "source": []
  },
  {
   "cell_type": "code",
   "execution_count": null,
   "metadata": {},
   "outputs": [],
   "source": []
  }
 ],
 "metadata": {
  "kernelspec": {
   "display_name": "research",
   "language": "python",
   "name": "research"
  },
  "language_info": {
   "codemirror_mode": {
    "name": "ipython",
    "version": 3
   },
   "file_extension": ".py",
   "mimetype": "text/x-python",
   "name": "python",
   "nbconvert_exporter": "python",
   "pygments_lexer": "ipython3",
   "version": "3.7.8"
  }
 },
 "nbformat": 4,
 "nbformat_minor": 4
}
