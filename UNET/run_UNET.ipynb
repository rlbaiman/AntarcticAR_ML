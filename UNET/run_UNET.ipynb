{
 "cells": [
  {
   "cell_type": "code",
   "execution_count": null,
   "metadata": {},
   "outputs": [
    {
     "name": "stderr",
     "output_type": "stream",
     "text": [
      "2023-10-18 16:00:15.101734: I tensorflow/core/platform/cpu_feature_guard.cc:182] This TensorFlow binary is optimized to use available CPU instructions in performance-critical operations.\n",
      "To enable the following instructions: SSE4.1 SSE4.2 AVX AVX2 AVX512F AVX512_VNNI FMA, in other operations, rebuild TensorFlow with the appropriate compiler flags.\n"
     ]
    }
   ],
   "source": [
    "import xarray as xr \n",
    "import matplotlib.pyplot as plt \n",
    "import numpy as np\n",
    "import tensorflow as tf\n",
    "\n",
    "#plot parameters that I personally like, feel free to make these your own.\n",
    "import matplotlib\n",
    "import matplotlib.patheffects as path_effects\n",
    "\n",
    "\n",
    "#outlines for text \n",
    "pe1 = [path_effects.withStroke(linewidth=1.5,\n",
    "                             foreground=\"k\")]\n",
    "pe2 = [path_effects.withStroke(linewidth=1.5,\n",
    "                             foreground=\"w\")]\n",
    "\n",
    "matplotlib.rcParams['axes.facecolor'] = [0.9,0.9,0.9] #makes a grey background to the axis face\n",
    "matplotlib.rcParams['axes.labelsize'] = 14 #fontsize in pts\n",
    "matplotlib.rcParams['axes.titlesize'] = 14 \n",
    "matplotlib.rcParams['xtick.labelsize'] = 12 \n",
    "matplotlib.rcParams['ytick.labelsize'] = 12 \n",
    "matplotlib.rcParams['legend.fontsize'] = 12 \n",
    "matplotlib.rcParams['legend.facecolor'] = 'w' \n",
    "matplotlib.rcParams['savefig.transparent'] = False\n",
    "\n",
    "#make default resolution of figures much higher (i.e., High definition)\n",
    "%config InlineBackend.figure_format = 'retina'\n",
    "\n",
    "from keras_unet_collection import models"
   ]
  },
  {
   "cell_type": "code",
   "execution_count": null,
   "metadata": {},
   "outputs": [],
   "source": [
    "ds_train_xr = xr.open_dataset('/pl/active/ATOC_SynopticMet/data/ar_data/Research3/Data/Training_data/train.nc')\n",
    "\n",
    "ds_val_xr = xr.open_dataset('/pl/active/ATOC_SynopticMet/data/ar_data/Research3/Data/Training_data/validate.nc')\n",
    "   "
   ]
  },
  {
   "cell_type": "code",
   "execution_count": null,
   "metadata": {},
   "outputs": [],
   "source": [
    "#make datasets \n",
    "ds_train = tf.data.Dataset.from_tensor_slices((ds_train_xr.features.values,ds_train_xr.labels_2d.values))\n",
    "ds_val = tf.data.Dataset.from_tensor_slices((ds_val_xr.features.values,ds_val_xr.labels_2d.values))\n",
    "\n",
    "# #shuffle only the training\n",
    "ds_train = ds_train.shuffle(ds_train.cardinality().numpy())\n",
    "\n",
    "#batch both \n",
    "batch_size = 64\n",
    "ds_train = ds_train.batch(batch_size)\n",
    "ds_val = ds_val.batch(batch_size)"
   ]
  },
  {
   "cell_type": "code",
   "execution_count": null,
   "metadata": {},
   "outputs": [],
   "source": [
    "for batch in ds_train:\n",
    "    break "
   ]
  },
  {
   "cell_type": "code",
   "execution_count": null,
   "metadata": {},
   "outputs": [],
   "source": [
    "model = models.unet_2d([256, 32, 8],[2,4],1,stack_num_down=1,stack_num_up=1,output_activation='Sigmoid',weights=None)"
   ]
  },
  {
   "cell_type": "code",
   "execution_count": null,
   "metadata": {},
   "outputs": [],
   "source": [
    "model.summary()"
   ]
  },
  {
   "cell_type": "code",
   "execution_count": null,
   "metadata": {},
   "outputs": [],
   "source": [
    "model.compile(loss=tf.keras.losses.BinaryCrossentropy(),optimizer=tf.keras.optimizers.Adam(learning_rate=1e-3))\n",
    "\n",
    "history = model.fit(ds_train,validation_data=ds_val,epochs=30)\n"
   ]
  },
  {
   "cell_type": "code",
   "execution_count": null,
   "metadata": {},
   "outputs": [],
   "source": [
    "#like sklearn, we do .predict!\n",
    "y_preds = model.predict(ds_val)\n",
    "\n",
    "plt.hist(y_preds.ravel())\n",
    "plt.xlabel('prob of AR')\n",
    "plt.ylabel('count')\n",
    "plt.xlim([0,1])"
   ]
  },
  {
   "cell_type": "code",
   "execution_count": null,
   "metadata": {},
   "outputs": [],
   "source": [
    "#get the features for example 12 in this batch \n",
    "one_example_features = batch[0][5]\n",
    "#get the label for that same example \n",
    "one_example_label = batch[1][5]\n",
    "\n",
    "\n",
    "fig,axes = plt.subplots(1,4,figsize=(20,5))\n",
    "axes[0].imshow(one_example_features[:,:,0],cmap='Blues')\n",
    "axes[1].imshow(one_example_features[:,:,1],cmap='turbo')\n",
    "axes[2].imshow(one_example_features[:,:,2],cmap='Spectral_r')\n",
    "axes[3].imshow(one_example_features[:,:,3],cmap='Greys_r')\n",
    "\n",
    "plt.tight_layout()\n",
    "\n",
    "\n",
    "fig,axes = plt.subplots(1,2,figsize=(10,5),facecolor='w')\n",
    "pm = axes[0].imshow(one_example_label)\n",
    "plt.colorbar(pm,ax=axes[0])\n",
    "pm = axes[1].imshow(y_preds[27])\n",
    "plt.colorbar(pm,ax=axes[1],label='AR_prob')\n",
    "\n",
    "\n",
    "plt.tight_layout()"
   ]
  }
 ],
 "metadata": {
  "kernelspec": {
   "display_name": "ML",
   "language": "python",
   "name": "ml"
  },
  "language_info": {
   "codemirror_mode": {
    "name": "ipython",
    "version": 3
   },
   "file_extension": ".py",
   "mimetype": "text/x-python",
   "name": "python",
   "nbconvert_exporter": "python",
   "pygments_lexer": "ipython3",
   "version": "3.11.5"
  }
 },
 "nbformat": 4,
 "nbformat_minor": 4
}
