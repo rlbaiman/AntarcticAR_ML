{
 "cells": [
  {
   "cell_type": "code",
   "execution_count": 1,
   "metadata": {},
   "outputs": [
    {
     "name": "stderr",
     "output_type": "stream",
     "text": [
      "/home/reba1583/.local/lib/python3.8/site-packages/pandas/core/computation/expressions.py:20: UserWarning: Pandas requires version '2.7.3' or newer of 'numexpr' (version '2.7.1' currently installed).\n",
      "  from pandas.core.computation.check import NUMEXPR_INSTALLED\n"
     ]
    }
   ],
   "source": [
    "# Import necessary libraries\n",
    "import numpy as np\n",
    "import xarray as xr\n",
    "import pandas as pd\n",
    "import matplotlib.pyplot as plt\n",
    "import os\n",
    "from matplotlib.colors import ListedColormap"
   ]
  },
  {
   "cell_type": "code",
   "execution_count": null,
   "metadata": {},
   "outputs": [],
   "source": [
    "ds = xr.open_mfdataset('/pl/active/ATOC_SynopticMet/data/ar_data/Research3/Data/full_data.nc')\n"
   ]
  },
  {
   "cell_type": "code",
   "execution_count": null,
   "metadata": {},
   "outputs": [],
   "source": [
    "newcolors = np.vstack((plt.get_cmap('Blues').reversed()(np.linspace(0, 1, 30)),np.ones((10,4)),\n",
    "                       plt.get_cmap('Reds').reversed()(np.linspace(1, 0, 30))))\n",
    "double = ListedColormap(newcolors, name='double')"
   ]
  },
  {
   "cell_type": "code",
   "execution_count": null,
   "metadata": {},
   "outputs": [],
   "source": [
    "#define function \n",
    "def show_sample(ds):\n",
    "    num_channels = len(ds_sample.n_channel)\n",
    "    #define figure with 1 row and 5 columns. \n",
    "    fig,axes = plt.subplots(4,2,figsize=(25, 12))\n",
    "    ax = axes.flatten() # Flatten 2x2 array so that you can use ax[0],ax[1],... rather than ax[0],ax[1]...\n",
    "    fig.suptitle(str(ds.time.values)[0:10]+' '+str(ds.time.values)[11:13], fontsize = 20)\n",
    "    #set the background to white, for some reason its transparent\n",
    "    fig.set_facecolor('w')\n",
    "    #loop over features (inputs)\n",
    "    for i in range(num_channels):\n",
    "        #plot images\n",
    "        cf = ax[i].contourf(ds.lon, ds.lat, ds.isel(n_channel = i).features,cmap=double, levels = np.arange(-4,5,1), extend = 'both')\n",
    "        ax[i].axis('off')\n",
    "        ax[i].set_title(ds.n_channel[i].values, fontsize = 18)\n",
    "    cb = plt.colorbar(cf, ax =ax.ravel(),location='top', fraction = .05, shrink = 10,\n",
    "                      ticks=[-4,-3,-2,-1, 0,1, 2,3,4],pad = .1,extendrect=True, aspect = 25, extend = 'both')\n",
    "\n",
    "\n",
    "\n",
    "    plt.savefig('/projects/reba1583/Research3/AntarcticAR_ML/Make_X_data/X_data_example.png', dpi = 300,facecolor = 'white', transparent=True, bbox_inches = 'tight') \n"
   ]
  },
  {
   "cell_type": "code",
   "execution_count": null,
   "metadata": {},
   "outputs": [],
   "source": [
    "\n",
    "show_sample(ds.isel(time = 55))"
   ]
  }
 ],
 "metadata": {
  "kernelspec": {
   "display_name": "Python 3",
   "language": "python",
   "name": "python3"
  },
  "language_info": {
   "codemirror_mode": {
    "name": "ipython",
    "version": 3
   },
   "file_extension": ".py",
   "mimetype": "text/x-python",
   "name": "python",
   "nbconvert_exporter": "python",
   "pygments_lexer": "ipython3",
   "version": "3.8.5"
  }
 },
 "nbformat": 4,
 "nbformat_minor": 4
}
