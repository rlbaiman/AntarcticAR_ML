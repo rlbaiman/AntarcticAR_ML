{
 "cells": [
  {
   "cell_type": "code",
   "execution_count": 121,
   "metadata": {},
   "outputs": [],
   "source": [
    "# Import necessary libraries\n",
    "import numpy as np\n",
    "import xarray as xr\n",
    "import pandas as pd\n",
    "import matplotlib.pyplot as plt"
   ]
  },
  {
   "cell_type": "markdown",
   "metadata": {},
   "source": [
    "## Vaguely checkout data"
   ]
  },
  {
   "cell_type": "code",
   "execution_count": 122,
   "metadata": {},
   "outputs": [],
   "source": [
    "#2d input data for neural network algorithms\n",
    "train_data = xr.open_mfdataset('/pl/active/ATOC_SynopticMet/data/ar_data/Research3/ML_testing/3yr_norm_anom/ds_train')\n",
    "validate_data = xr.open_mfdataset('/pl/active/ATOC_SynopticMet/data/ar_data/Research3/ML_testing/3yr_norm_anom/ds_validate')\n",
    "test_data = xr.open_mfdataset('/pl/active/ATOC_SynopticMet/data/ar_data/Research3/ML_testing/3yr_norm_anom/ds_test')\n"
   ]
  },
  {
   "cell_type": "code",
   "execution_count": 123,
   "metadata": {},
   "outputs": [],
   "source": [
    "train_ars = np.array(train_data.label_1d_AR)\n",
    "test_ars = np.array(test_data.label_1d_AR)\n",
    "validate_ars = np.array(validate_data.label_1d_AR)"
   ]
  },
  {
   "cell_type": "code",
   "execution_count": 124,
   "metadata": {},
   "outputs": [
    {
     "name": "stdout",
     "output_type": "stream",
     "text": [
      "Num ARs in training: 503 out of 3068 timesteps\n",
      "Num ARs in testing: 96 out of 658 timesteps\n",
      "Num ARs in validating: 105 out of 658 timesteps\n"
     ]
    }
   ],
   "source": [
    "print(\n",
    "'Num ARs in training: '+str(len(train_ars[train_ars==1]))+' out of '+str(len(train_ars))+' timesteps'+ \n",
    "'\\nNum ARs in testing: '+str(len(test_ars[test_ars==1]))+' out of '+str(len(test_ars))+' timesteps'+   \n",
    "'\\nNum ARs in validating: '+str(len(validate_ars[validate_ars==1]))+' out of '+str(len(validate_ars))+' timesteps')"
   ]
  },
  {
   "cell_type": "code",
   "execution_count": 125,
   "metadata": {},
   "outputs": [
    {
     "name": "stdout",
     "output_type": "stream",
     "text": [
      "% ARs in training: 16.0\n",
      "% ARs in testing: 15.0\n",
      "% ARs in validating: 16.0\n"
     ]
    }
   ],
   "source": [
    "print(\n",
    "'% ARs in training: '+str(np.round(100*len(train_ars[train_ars==1])/len(train_ars)))+ \n",
    "'\\n% ARs in testing: '+str(np.round(100*len(test_ars[test_ars==1])/len(test_ars)))+   \n",
    "'\\n% ARs in validating: '+str(np.round(100*len(validate_ars[validate_ars==1])/len(validate_ars))))"
   ]
  },
  {
   "cell_type": "markdown",
   "metadata": {},
   "source": [
    "# Use data made for 1d machine learning, created in Make_test_data.ipynb"
   ]
  },
  {
   "cell_type": "code",
   "execution_count": 142,
   "metadata": {},
   "outputs": [],
   "source": [
    "\n",
    "df_t = pd.read_csv('/pl/active/ATOC_SynopticMet/data/ar_data/Research3/ML_testing/3yr_norm_anom/tradML_ds_train', index_col = 0)\n",
    "df_v = pd.read_csv('/pl/active/ATOC_SynopticMet/data/ar_data/Research3/ML_testing/3yr_norm_anom/tradML_ds_validate', index_col = 0)\n"
   ]
  },
  {
   "cell_type": "code",
   "execution_count": 159,
   "metadata": {},
   "outputs": [
    {
     "data": {
      "text/plain": [
       "array([[1020]])"
      ]
     },
     "execution_count": 159,
     "metadata": {},
     "output_type": "execute_result"
    }
   ],
   "source": [
    "np.argwhere(np.array(df_t.isna().any(axis=1)))"
   ]
  },
  {
   "cell_type": "code",
   "execution_count": 170,
   "metadata": {},
   "outputs": [],
   "source": [
    "df_t.iloc[1020,12:18] = 0"
   ]
  },
  {
   "cell_type": "markdown",
   "metadata": {},
   "source": [
    "# Re-train using traditional ML \n",
    "\n",
    "From notebook /projects/reba1583/Research3/WAF_ML_Tutorial_Part2/jupyter_notebooks/Notebook03_Retrain_Traditional_ML.ipynb"
   ]
  },
  {
   "cell_type": "code",
   "execution_count": 141,
   "metadata": {},
   "outputs": [
    {
     "data": {
      "image/png": "[encoded data removed]",
      "text/plain": [
       "<Figure size 432x288 with 1 Axes>"
      ]
     },
     "metadata": {
      "needs_background": "light"
     },
     "output_type": "display_data"
    }
   ],
   "source": [
    "plt.hist(df_t.q_100_H,bins=100,color='dodgerblue');"
   ]
  },
  {
   "cell_type": "markdown",
   "metadata": {},
   "source": [
    "# Split into X and Y"
   ]
  },
  {
   "cell_type": "code",
   "execution_count": 171,
   "metadata": {},
   "outputs": [],
   "source": [
    "# Here the y is the classification label - O for no landfalling AR and 1 for landfalling AR\n",
    "X_t = df_t.to_numpy()[:,:54]\n",
    "y_t = df_t.to_numpy()[:,54]\n",
    "X_v = df_v.to_numpy()[:,:54]\n",
    "y_v = df_v.to_numpy()[:,54]"
   ]
  },
  {
   "cell_type": "markdown",
   "metadata": {},
   "source": [
    "# Train some models!"
   ]
  },
  {
   "cell_type": "code",
   "execution_count": 172,
   "metadata": {},
   "outputs": [],
   "source": [
    "#load ML code from sklearn\n",
    "from sklearn.linear_model import LogisticRegression,SGDClassifier\n",
    "from sklearn.ensemble import RandomForestClassifier,GradientBoostingClassifier\n",
    "from sklearn.tree import DecisionTreeClassifier\n",
    "from sklearn.svm import LinearSVC\n",
    "from sklearn.naive_bayes import GaussianNB"
   ]
  },
  {
   "cell_type": "code",
   "execution_count": 173,
   "metadata": {},
   "outputs": [
    {
     "name": "stdout",
     "output_type": "stream",
     "text": [
      "[LogisticRegression(), GaussianNB(), DecisionTreeClassifier(), RandomForestClassifier(), GradientBoostingClassifier(), LinearSVC(dual=False)]\n"
     ]
    }
   ],
   "source": [
    "#initialize models in a list that we can loop over \n",
    "model_list = [LogisticRegression(),GaussianNB(),DecisionTreeClassifier(),RandomForestClassifier(),GradientBoostingClassifier(),LinearSVC(dual=False)]\n",
    "\n",
    "print(model_list)"
   ]
  },
  {
   "cell_type": "code",
   "execution_count": 174,
   "metadata": {},
   "outputs": [
    {
     "name": "stderr",
     "output_type": "stream",
     "text": [
      "  0%|          | 0/6 [00:00<?, ?it/s]/home/reba1583/.local/lib/python3.7/site-packages/sklearn/linear_model/_logistic.py:818: ConvergenceWarning: lbfgs failed to converge (status=1):\n",
      "STOP: TOTAL NO. of ITERATIONS REACHED LIMIT.\n",
      "\n",
      "Increase the number of iterations (max_iter) or scale the data as shown in:\n",
      "    https://scikit-learn.org/stable/modules/preprocessing.html\n",
      "Please also refer to the documentation for alternative solver options:\n",
      "    https://scikit-learn.org/stable/modules/linear_model.html#logistic-regression\n",
      "  extra_warning_msg=_LOGISTIC_SOLVER_CONVERGENCE_MSG,\n",
      "100%|██████████| 6/6 [00:05<00:00,  1.02it/s]\n"
     ]
    }
   ],
   "source": [
    "#Import a progress bar so we know how long it is taking\n",
    "import tqdm\n",
    "\n",
    "#loop over models and train with the same training data\n",
    "for model in tqdm.tqdm(model_list):\n",
    "    model.fit(X_t,y_t)"
   ]
  },
  {
   "cell_type": "markdown",
   "metadata": {},
   "source": [
    "# Evaluate the models"
   ]
  },
  {
   "cell_type": "code",
   "execution_count": 179,
   "metadata": {},
   "outputs": [
    {
     "ename": "ZeroDivisionError",
     "evalue": "0.0 cannot be raised to a negative power",
     "output_type": "error",
     "traceback": [
      "\u001b[0;31m---------------------------------------------------------------------------\u001b[0m",
      "\u001b[0;31mZeroDivisionError\u001b[0m                         Traceback (most recent call last)",
      "\u001b[0;32m<ipython-input-179-8afa197bd2ec>\u001b[0m in \u001b[0;36m<module>\u001b[0;34m\u001b[0m\n\u001b[1;32m     26\u001b[0m     \u001b[0mpod\u001b[0m \u001b[0;34m=\u001b[0m \u001b[0mget_pod\u001b[0m\u001b[0;34m(\u001b[0m\u001b[0mcont_table\u001b[0m\u001b[0;34m)\u001b[0m\u001b[0;34m\u001b[0m\u001b[0;34m\u001b[0m\u001b[0m\n\u001b[1;32m     27\u001b[0m     \u001b[0msr\u001b[0m \u001b[0;34m=\u001b[0m \u001b[0mget_sr\u001b[0m\u001b[0;34m(\u001b[0m\u001b[0mcont_table\u001b[0m\u001b[0;34m)\u001b[0m\u001b[0;34m\u001b[0m\u001b[0;34m\u001b[0m\u001b[0m\n\u001b[0;32m---> 28\u001b[0;31m     \u001b[0mcsi\u001b[0m \u001b[0;34m=\u001b[0m \u001b[0mcsi_from_sr_and_pod\u001b[0m\u001b[0;34m(\u001b[0m\u001b[0msr\u001b[0m\u001b[0;34m,\u001b[0m\u001b[0mpod\u001b[0m\u001b[0;34m)\u001b[0m\u001b[0;34m\u001b[0m\u001b[0;34m\u001b[0m\u001b[0m\n\u001b[0m\u001b[1;32m     29\u001b[0m \u001b[0;34m\u001b[0m\u001b[0m\n\u001b[1;32m     30\u001b[0m     \u001b[0;31m#plot the marker\u001b[0m\u001b[0;34m\u001b[0m\u001b[0;34m\u001b[0m\u001b[0;34m\u001b[0m\u001b[0m\n",
      "\u001b[0;32m/projects/reba1583/Research3/WAF_ML_Tutorial_Part2/scripts/gewitter_functions.py\u001b[0m in \u001b[0;36mcsi_from_sr_and_pod\u001b[0;34m(success_ratio_array, pod_array)\u001b[0m\n\u001b[1;32m    214\u001b[0m     \u001b[0;34m:\u001b[0m\u001b[0;32mreturn\u001b[0m\u001b[0;34m:\u001b[0m \u001b[0mcsi_array\u001b[0m\u001b[0;34m:\u001b[0m \u001b[0mnp\u001b[0m \u001b[0marray\u001b[0m \u001b[0;34m(\u001b[0m\u001b[0msame\u001b[0m \u001b[0mshape\u001b[0m\u001b[0;34m)\u001b[0m \u001b[0mof\u001b[0m \u001b[0mCSI\u001b[0m \u001b[0mvalues\u001b[0m\u001b[0;34m.\u001b[0m\u001b[0;34m\u001b[0m\u001b[0;34m\u001b[0m\u001b[0m\n\u001b[1;32m    215\u001b[0m     \"\"\"\n\u001b[0;32m--> 216\u001b[0;31m     \u001b[0;32mreturn\u001b[0m \u001b[0;34m(\u001b[0m\u001b[0msuccess_ratio_array\u001b[0m \u001b[0;34m**\u001b[0m \u001b[0;34m-\u001b[0m\u001b[0;36m1\u001b[0m \u001b[0;34m+\u001b[0m \u001b[0mpod_array\u001b[0m \u001b[0;34m**\u001b[0m \u001b[0;34m-\u001b[0m\u001b[0;36m1\u001b[0m \u001b[0;34m-\u001b[0m \u001b[0;36m1.\u001b[0m\u001b[0;34m)\u001b[0m \u001b[0;34m**\u001b[0m \u001b[0;34m-\u001b[0m\u001b[0;36m1\u001b[0m\u001b[0;34m\u001b[0m\u001b[0;34m\u001b[0m\u001b[0m\n\u001b[0m\u001b[1;32m    217\u001b[0m \u001b[0;34m\u001b[0m\u001b[0m\n\u001b[1;32m    218\u001b[0m \u001b[0;32mdef\u001b[0m \u001b[0mfrequency_bias_from_sr_and_pod\u001b[0m\u001b[0;34m(\u001b[0m\u001b[0msuccess_ratio_array\u001b[0m\u001b[0;34m,\u001b[0m \u001b[0mpod_array\u001b[0m\u001b[0;34m)\u001b[0m\u001b[0;34m:\u001b[0m\u001b[0;34m\u001b[0m\u001b[0;34m\u001b[0m\u001b[0m\n",
      "\u001b[0;31mZeroDivisionError\u001b[0m: 0.0 cannot be raised to a negative power"
     ]
    },
    {
     "data": {
      "image/png": "[encoded data removed]",
      "text/plain": [
       "<Figure size 360x360 with 2 Axes>"
      ]
     },
     "metadata": {},
     "output_type": "display_data"
    }
   ],
   "source": [
    "#import some helper functions from our other directory.\n",
    "import sys\n",
    "sys.path.insert(1, '/projects/reba1583/Research3/WAF_ML_Tutorial_Part2/scripts')\n",
    "\n",
    "#load contingency_table func\n",
    "from gewitter_functions import get_contingency_table,make_performance_diagram_axis,get_acc,get_pod,get_sr,csi_from_sr_and_pod\n",
    "\n",
    "#make axis to plot on \n",
    "ax = make_performance_diagram_axis()\n",
    "\n",
    "#make list of colors so each method shows up as a different color\n",
    "colors=['b','b','b','b','b','b']\n",
    "legend_labels = ['LgR','NB','DT','RF','GBT','SVM']\n",
    "#list of different marker types, check the documentation here for the full list: https://matplotlib.org/stable/api/markers_api.html \n",
    "markers = ['o','^','>','8','s','h']\n",
    "\n",
    "#loop over all trained models \n",
    "for idx,model in enumerate(model_list):\n",
    "    #get predictions \n",
    "    yhat = model.predict(X_v)\n",
    "    #the contingency table calculator expects y_true,y_pred\n",
    "    cont_table = get_contingency_table(y_v,yhat)\n",
    "    \n",
    "    #get metrics\n",
    "    accuracy = get_acc(cont_table)\n",
    "    pod = get_pod(cont_table)\n",
    "    sr = get_sr(cont_table)\n",
    "    csi = csi_from_sr_and_pod(sr,pod)\n",
    "    \n",
    "    #plot the marker \n",
    "    ax.plot(sr,pod,markers[idx],color=colors[idx],markerfacecolor='w',label=legend_labels[idx])\n",
    "    \n",
    "    #print some stats so we dont have to read it off the plot\n",
    "    print('{} accuracy: {}%'.format(legend_labels[idx],np.round(accuracy,0)))\n",
    "    print('{} CSI: {}'.format(legend_labels[idx],np.round(csi,2)))\n",
    "    \n",
    "#draw legend \n",
    "ax.legend()\n",
    "\n",
    "plt.tight_layout()"
   ]
  },
  {
   "cell_type": "code",
   "execution_count": 181,
   "metadata": {},
   "outputs": [
    {
     "name": "stdout",
     "output_type": "stream",
     "text": [
      "LgR:  AUC: 0.52\n",
      "NB:  AUC: 0.53\n",
      "DT:  AUC: 0.55\n",
      "RF:  AUC: 0.54\n",
      "GBT:  AUC: 0.54\n"
     ]
    },
    {
     "data": {
      "image/png": "[encoded data removed]",
      "text/plain": [
       "<Figure size 295.2x360 with 1 Axes>"
      ]
     },
     "metadata": {},
     "output_type": "display_data"
    }
   ],
   "source": [
    "#load contingency_table func\n",
    "from gewitter_functions import get_points_in_roc_curve,get_area_under_roc_curve\n",
    "\n",
    "#make figure\n",
    "fig = plt.figure(figsize=(4.1,5))\n",
    "#set facecolor to white so you can copy/paste the image somewhere \n",
    "fig.set_facecolor('w')\n",
    "\n",
    "#make list of colors so each method shows up as a different color\n",
    "colors=['b','b','b','b','b','b']\n",
    "legend_labels = ['LgR: ','NB: ','DT: ','RF: ','GBT: ','SVM: ']\n",
    "\n",
    "#this is a fancy way of encoding line styles, dont worry, I do NOT know these, I googled. \n",
    "line_styles = [(0, (1, 10)),(0, (1, 1)),(0, (1, 1)),(0, (5, 10)),(0, (5, 5)),(0, (5, 1))]\n",
    "    \n",
    "ax = plt.gca()\n",
    "\n",
    "#loop over all trained models \n",
    "for idx,model in enumerate(model_list[:-1]):\n",
    "    #get predictions \n",
    "    yhat_proba = model.predict_proba(X_v)\n",
    "    \n",
    "    #lets just focus on the output from class 1 (note, the sum of these two columns should be 1)\n",
    "    y_preds = yhat_proba[:,1]\n",
    "    \n",
    "    #get the roc curve\n",
    "    pofds, pods = get_points_in_roc_curve(forecast_probabilities=y_preds, observed_labels=y_v, threshold_arg=np.linspace(0,1,100))\n",
    "    \n",
    "    #get AUC \n",
    "    auc = get_area_under_roc_curve(pofds,pods)\n",
    "    \n",
    "    #plot the lines \n",
    "    ax.plot(pofds,pods,ls=line_styles[idx],color=colors[idx],label=legend_labels[idx] + str(np.round(auc,2)),lw=1)\n",
    "    \n",
    "    print('{} AUC: {}'.format(legend_labels[idx],np.round(auc,2)))\n",
    "    \n",
    "#draw legend \n",
    "ax.legend()\n",
    "\n",
    "#set some limits\n",
    "ax.set_xlim([0,1])\n",
    "ax.set_ylim([0,1])\n",
    "\n",
    "#set the no-skill line\n",
    "ax.plot([0,1],[0,1],'--',color='Grey')\n",
    "\n",
    "#label things\n",
    "ax.set_title(\"AUC of ROC Curve\")\n",
    "ax.set_xlabel('POFD')\n",
    "ax.set_ylabel('POD')\n",
    "\n",
    "plt.tight_layout()"
   ]
  },
  {
   "cell_type": "markdown",
   "metadata": {},
   "source": [
    "# Train some regression models"
   ]
  },
  {
   "cell_type": "code",
   "execution_count": 183,
   "metadata": {},
   "outputs": [],
   "source": [
    "y_t = df_t.to_numpy()[:,55]\n",
    "y_v = df_v.to_numpy()[:,55]"
   ]
  },
  {
   "cell_type": "code",
   "execution_count": 184,
   "metadata": {},
   "outputs": [
    {
     "name": "stdout",
     "output_type": "stream",
     "text": [
      "[LinearRegression(), DecisionTreeRegressor(), RandomForestRegressor(), GradientBoostingRegressor(), LinearSVR()]\n"
     ]
    }
   ],
   "source": [
    "from sklearn.linear_model import LinearRegression\n",
    "from sklearn.ensemble import RandomForestRegressor,GradientBoostingRegressor\n",
    "from sklearn.tree import DecisionTreeRegressor\n",
    "from sklearn.svm import LinearSVR\n",
    "\n",
    "#initialize\n",
    "model_list = [LinearRegression(), DecisionTreeRegressor(), RandomForestRegressor(), GradientBoostingRegressor(), LinearSVR()]\n",
    "\n",
    "print(model_list)"
   ]
  },
  {
   "cell_type": "code",
   "execution_count": 185,
   "metadata": {},
   "outputs": [
    {
     "name": "stderr",
     "output_type": "stream",
     "text": [
      "100%|██████████| 5/5 [00:15<00:00,  3.17s/it]\n"
     ]
    }
   ],
   "source": [
    "for model in tqdm.tqdm(model_list):\n",
    "    model.fit(X_t,y_t)"
   ]
  },
  {
   "cell_type": "code",
   "execution_count": 187,
   "metadata": {},
   "outputs": [
    {
     "name": "stdout",
     "output_type": "stream",
     "text": [
      "n_samples= --\n",
      "n_samples= --\n",
      "n_samples= --\n",
      "n_samples= --\n",
      "n_samples= --\n"
     ]
    },
    {
     "name": "stderr",
     "output_type": "stream",
     "text": [
      "/projects/reba1583/software/anaconda/envs/research/lib/python3.7/site-packages/ipykernel_launcher.py:87: UserWarning: This figure includes Axes that are not compatible with tight_layout, so results might be incorrect.\n"
     ]
    },
    {
     "data": {
      "image/png": "[encoded data removed]",
      "text/plain": [
       "<Figure size 540x360 with 7 Axes>"
      ]
     },
     "metadata": {},
     "output_type": "display_data"
    }
   ],
   "source": [
    "import matplotlib\n",
    "from aux_functions import boxbin,make_colorbar\n",
    "#make figure with 2 rows and 3 columns with size 7.5\" by 5\"\n",
    "fig,axes = plt.subplots(2,3,figsize=(7.5,5))\n",
    "#set facecolor to white so we can copy paste it if you want to somewhere else\n",
    "fig.set_facecolor('w')\n",
    "\n",
    "#the number of bins for the boxbin method \n",
    "n = 33\n",
    "#the bins we want in x and y \n",
    "xbins = np.logspace(0,3.5,n)\n",
    "ybins = np.logspace(0,3.5,n)\n",
    "\n",
    "#colors i like \n",
    "r = [255/255,127/255,127/255]\n",
    "b = [126/255,131/255,248/255]\n",
    "\n",
    "#labels\n",
    "labels= ['LnR','DT','RF','GBT','SVM']\n",
    "#color list, one for each model \n",
    "colors= [r,b,'orange','purple','dimgrey']\n",
    "#colormaps to match the colors in 'theme'\n",
    "cmaps=['Reds_r','Blues_r','Oranges_r','Purples_r','Greys_r']\n",
    "\n",
    "#force ticks to show up where i want them \n",
    "locmin = matplotlib.ticker.LogLocator(base=10.0, subs=(0.1,0.2,0.4,0.6,0.8,1,2,4,6,8,10 )) \n",
    "\n",
    "#axes is shape [2,3], it is easier to loop if we flatten this, which is what ravel does \n",
    "axes = axes.ravel()\n",
    "\n",
    "#some parameters to make it pretty \n",
    "c_scale = 0.575\n",
    "fs3 = 11\n",
    "fs4 = 18\n",
    "props = dict(boxstyle='square', facecolor='White', alpha=0.75)\n",
    "annotate_list = ['a)','b)','c)','d)','e)',]\n",
    "\n",
    "#draw a new axis for a new colorbar to go on \n",
    "ax_cbar = fig.add_axes([0.75, 0.15, 0.015,0.33])\n",
    "#draw that colorbar \n",
    "cbar = make_colorbar(ax_cbar,0,2,plt.cm.Greys_r)\n",
    "#label that colorbar \n",
    "cbar.set_label('$\\%$ of total points')\n",
    "\n",
    "#loop over axes and draw scatters \n",
    "for i,ax in enumerate(axes):\n",
    "    #we have 1 too many subplots, so turn off the last one [5]\n",
    "    if i==5:\n",
    "        ax.axis('off')\n",
    "        break\n",
    "    #make axes log-log     \n",
    "    ax.semilogy()\n",
    "    ax.semilogx()\n",
    "    \n",
    "    #grab model\n",
    "    model = model_list[i]\n",
    "    #get predicitions \n",
    "    yhat = model.predict(X_v)\n",
    "    #make scatter plot \n",
    "    ax.scatter(yhat,y_v,color=colors[i],s=1,marker='+')\n",
    "    \n",
    "    #box and bin up data to show density of points \n",
    "    ax,cbar,C = boxbin(yhat,y_v,xbins,ybins,ax=ax,mincnt=10,normed=True,cmap=cmaps[i],vmin=0,vmax=2,cbar=False)\n",
    "    \n",
    "    #set some axis limits and ticks \n",
    "    ax.set_xlim([1,4000])\n",
    "    ax.set_xticks([1,10,100,1000])\n",
    "    ax.set_yticks([1,10,100,1000])\n",
    "    ax.set_ylim([1,4000])\n",
    "    \n",
    "    #add diaganol line \n",
    "    ax.plot([1,4000],[1,4000],'--k',alpha=0.5)\n",
    "    \n",
    "    #add a subplot label \n",
    "    ax.text(0.075, 0.25, annotate_list[i], transform=ax.transAxes,fontsize=fs4,\n",
    "        verticalalignment='top', bbox=props)\n",
    "    \n",
    "    #only label certain axes x-y axis to save space \n",
    "    if (i == 0) or (i==3):\n",
    "        ax.set_ylabel('$y$, [# of flashes]')\n",
    "    if i==4:\n",
    "        ax.set_xlabel(r'$\\hat{y}$, [# of flashes]')\n",
    "        \n",
    "    #label each subplot title as the method used \n",
    "    ax.set_title(labels[i])\n",
    "    \n",
    "plt.tight_layout()"
   ]
  },
  {
   "cell_type": "code",
   "execution_count": 188,
   "metadata": {},
   "outputs": [
    {
     "name": "stdout",
     "output_type": "stream",
     "text": [
      "Method: LnR .. MAE:100.0 flashes, RMSE:122.51 flashes, Bias:67.62 flashes, Rsquared:-3776.66\n",
      "Method: DT .. MAE:176.93 flashes, RMSE:283.41 flashes, Bias:-176.49 flashes, Rsquared:-20216.66\n",
      "Method: RF .. MAE:193.55 flashes, RMSE:216.92 flashes, Bias:-193.55 flashes, Rsquared:-11843.37\n",
      "Method: GBT .. MAE:138.06 flashes, RMSE:200.19 flashes, Bias:-137.05 flashes, Rsquared:-10086.74\n",
      "Method: SVM .. MAE:0.5 flashes, RMSE:2.05 flashes, Bias:0.48 flashes, Rsquared:-0.06\n"
     ]
    }
   ],
   "source": [
    "from gewitter_functions import get_mae,get_rmse,get_bias,get_r2\n",
    "\n",
    "#loop over all trained models \n",
    "for idx,model in enumerate(model_list):\n",
    "    #get predictions \n",
    "    yhat = model.predict(X_v)\n",
    "    \n",
    "    mae = get_mae(y_v,yhat)\n",
    "    rmse = get_rmse(y_v,yhat)\n",
    "    bias = get_bias(y_v,yhat)\n",
    "    r2 = get_r2(y_v,yhat)\n",
    "\n",
    "    #print them out so we can see them \n",
    "    print('Method: {} .. MAE:{} flashes, RMSE:{} flashes, Bias:{} flashes, Rsquared:{}'.format(labels[idx],np.round(mae,2),np.round(rmse,2),np.round(bias,2),np.round(r2,2)))"
   ]
  },
  {
   "cell_type": "code",
   "execution_count": 189,
   "metadata": {},
   "outputs": [
    {
     "name": "stdout",
     "output_type": "stream",
     "text": [
      "Method: LnR .. MAE:100.0 flashes, RMSE:122.51 flashes, Bias:67.62 flashes, Rsquared:-3776.66\n",
      "Method: DT .. MAE:176.93 flashes, RMSE:283.41 flashes, Bias:-176.49 flashes, Rsquared:-20216.66\n",
      "Method: RF .. MAE:193.55 flashes, RMSE:216.92 flashes, Bias:-193.55 flashes, Rsquared:-11843.37\n",
      "Method: GBT .. MAE:138.06 flashes, RMSE:200.19 flashes, Bias:-137.05 flashes, Rsquared:-10086.74\n",
      "Method: SVM .. MAE:0.5 flashes, RMSE:2.05 flashes, Bias:0.48 flashes, Rsquared:-0.06\n"
     ]
    }
   ],
   "source": [
    "from gewitter_functions import get_mae,get_rmse,get_bias,get_r2\n",
    "\n",
    "#loop over all trained models \n",
    "for idx,model in enumerate(model_list):\n",
    "    #get predictions \n",
    "    yhat = model.predict(X_v)\n",
    "    \n",
    "    mae = get_mae(y_v,yhat)\n",
    "    rmse = get_rmse(y_v,yhat)\n",
    "    bias = get_bias(y_v,yhat)\n",
    "    r2 = get_r2(y_v,yhat)\n",
    "\n",
    "    #print them out so we can see them \n",
    "    print('Method: {} .. MAE:{} flashes, RMSE:{} flashes, Bias:{} flashes, Rsquared:{}'.format(labels[idx],np.round(mae,2),np.round(rmse,2),np.round(bias,2),np.round(r2,2)))"
   ]
  },
  {
   "cell_type": "code",
   "execution_count": 193,
   "metadata": {},
   "outputs": [
    {
     "data": {
      "text/plain": [
       "Text(0.075, 0.25, 'd)')"
      ]
     },
     "execution_count": 193,
     "metadata": {},
     "output_type": "execute_result"
    },
    {
     "ename": "ValueError",
     "evalue": "Image size of 606x2498122 pixels is too large. It must be less than 2^16 in each direction.",
     "output_type": "error",
     "traceback": [
      "\u001b[0;31m---------------------------------------------------------------------------\u001b[0m",
      "\u001b[0;31mValueError\u001b[0m                                Traceback (most recent call last)",
      "\u001b[0;32m/projects/reba1583/software/anaconda/envs/research/lib/python3.7/site-packages/IPython/core/formatters.py\u001b[0m in \u001b[0;36m__call__\u001b[0;34m(self, obj)\u001b[0m\n\u001b[1;32m    339\u001b[0m                 \u001b[0;32mpass\u001b[0m\u001b[0;34m\u001b[0m\u001b[0;34m\u001b[0m\u001b[0m\n\u001b[1;32m    340\u001b[0m             \u001b[0;32melse\u001b[0m\u001b[0;34m:\u001b[0m\u001b[0;34m\u001b[0m\u001b[0;34m\u001b[0m\u001b[0m\n\u001b[0;32m--> 341\u001b[0;31m                 \u001b[0;32mreturn\u001b[0m \u001b[0mprinter\u001b[0m\u001b[0;34m(\u001b[0m\u001b[0mobj\u001b[0m\u001b[0;34m)\u001b[0m\u001b[0;34m\u001b[0m\u001b[0;34m\u001b[0m\u001b[0m\n\u001b[0m\u001b[1;32m    342\u001b[0m             \u001b[0;31m# Finally look for special method names\u001b[0m\u001b[0;34m\u001b[0m\u001b[0;34m\u001b[0m\u001b[0;34m\u001b[0m\u001b[0m\n\u001b[1;32m    343\u001b[0m             \u001b[0mmethod\u001b[0m \u001b[0;34m=\u001b[0m \u001b[0mget_real_method\u001b[0m\u001b[0;34m(\u001b[0m\u001b[0mobj\u001b[0m\u001b[0;34m,\u001b[0m \u001b[0mself\u001b[0m\u001b[0;34m.\u001b[0m\u001b[0mprint_method\u001b[0m\u001b[0;34m)\u001b[0m\u001b[0;34m\u001b[0m\u001b[0;34m\u001b[0m\u001b[0m\n",
      "\u001b[0;32m/projects/reba1583/software/anaconda/envs/research/lib/python3.7/site-packages/IPython/core/pylabtools.py\u001b[0m in \u001b[0;36m<lambda>\u001b[0;34m(fig)\u001b[0m\n\u001b[1;32m    246\u001b[0m \u001b[0;34m\u001b[0m\u001b[0m\n\u001b[1;32m    247\u001b[0m     \u001b[0;32mif\u001b[0m \u001b[0;34m'png'\u001b[0m \u001b[0;32min\u001b[0m \u001b[0mformats\u001b[0m\u001b[0;34m:\u001b[0m\u001b[0;34m\u001b[0m\u001b[0;34m\u001b[0m\u001b[0m\n\u001b[0;32m--> 248\u001b[0;31m         \u001b[0mpng_formatter\u001b[0m\u001b[0;34m.\u001b[0m\u001b[0mfor_type\u001b[0m\u001b[0;34m(\u001b[0m\u001b[0mFigure\u001b[0m\u001b[0;34m,\u001b[0m \u001b[0;32mlambda\u001b[0m \u001b[0mfig\u001b[0m\u001b[0;34m:\u001b[0m \u001b[0mprint_figure\u001b[0m\u001b[0;34m(\u001b[0m\u001b[0mfig\u001b[0m\u001b[0;34m,\u001b[0m \u001b[0;34m'png'\u001b[0m\u001b[0;34m,\u001b[0m \u001b[0;34m**\u001b[0m\u001b[0mkwargs\u001b[0m\u001b[0;34m)\u001b[0m\u001b[0;34m)\u001b[0m\u001b[0;34m\u001b[0m\u001b[0;34m\u001b[0m\u001b[0m\n\u001b[0m\u001b[1;32m    249\u001b[0m     \u001b[0;32mif\u001b[0m \u001b[0;34m'retina'\u001b[0m \u001b[0;32min\u001b[0m \u001b[0mformats\u001b[0m \u001b[0;32mor\u001b[0m \u001b[0;34m'png2x'\u001b[0m \u001b[0;32min\u001b[0m \u001b[0mformats\u001b[0m\u001b[0;34m:\u001b[0m\u001b[0;34m\u001b[0m\u001b[0;34m\u001b[0m\u001b[0m\n\u001b[1;32m    250\u001b[0m         \u001b[0mpng_formatter\u001b[0m\u001b[0;34m.\u001b[0m\u001b[0mfor_type\u001b[0m\u001b[0;34m(\u001b[0m\u001b[0mFigure\u001b[0m\u001b[0;34m,\u001b[0m \u001b[0;32mlambda\u001b[0m \u001b[0mfig\u001b[0m\u001b[0;34m:\u001b[0m \u001b[0mretina_figure\u001b[0m\u001b[0;34m(\u001b[0m\u001b[0mfig\u001b[0m\u001b[0;34m,\u001b[0m \u001b[0;34m**\u001b[0m\u001b[0mkwargs\u001b[0m\u001b[0;34m)\u001b[0m\u001b[0;34m)\u001b[0m\u001b[0;34m\u001b[0m\u001b[0;34m\u001b[0m\u001b[0m\n",
      "\u001b[0;32m/projects/reba1583/software/anaconda/envs/research/lib/python3.7/site-packages/IPython/core/pylabtools.py\u001b[0m in \u001b[0;36mprint_figure\u001b[0;34m(fig, fmt, bbox_inches, **kwargs)\u001b[0m\n\u001b[1;32m    130\u001b[0m         \u001b[0mFigureCanvasBase\u001b[0m\u001b[0;34m(\u001b[0m\u001b[0mfig\u001b[0m\u001b[0;34m)\u001b[0m\u001b[0;34m\u001b[0m\u001b[0;34m\u001b[0m\u001b[0m\n\u001b[1;32m    131\u001b[0m \u001b[0;34m\u001b[0m\u001b[0m\n\u001b[0;32m--> 132\u001b[0;31m     \u001b[0mfig\u001b[0m\u001b[0;34m.\u001b[0m\u001b[0mcanvas\u001b[0m\u001b[0;34m.\u001b[0m\u001b[0mprint_figure\u001b[0m\u001b[0;34m(\u001b[0m\u001b[0mbytes_io\u001b[0m\u001b[0;34m,\u001b[0m \u001b[0;34m**\u001b[0m\u001b[0mkw\u001b[0m\u001b[0;34m)\u001b[0m\u001b[0;34m\u001b[0m\u001b[0;34m\u001b[0m\u001b[0m\n\u001b[0m\u001b[1;32m    133\u001b[0m     \u001b[0mdata\u001b[0m \u001b[0;34m=\u001b[0m \u001b[0mbytes_io\u001b[0m\u001b[0;34m.\u001b[0m\u001b[0mgetvalue\u001b[0m\u001b[0;34m(\u001b[0m\u001b[0;34m)\u001b[0m\u001b[0;34m\u001b[0m\u001b[0;34m\u001b[0m\u001b[0m\n\u001b[1;32m    134\u001b[0m     \u001b[0;32mif\u001b[0m \u001b[0mfmt\u001b[0m \u001b[0;34m==\u001b[0m \u001b[0;34m'svg'\u001b[0m\u001b[0;34m:\u001b[0m\u001b[0;34m\u001b[0m\u001b[0;34m\u001b[0m\u001b[0m\n",
      "\u001b[0;32m/projects/reba1583/software/anaconda/envs/research/lib/python3.7/site-packages/matplotlib/backend_bases.py\u001b[0m in \u001b[0;36mprint_figure\u001b[0;34m(self, filename, dpi, facecolor, edgecolor, orientation, format, bbox_inches, pad_inches, bbox_extra_artists, backend, **kwargs)\u001b[0m\n\u001b[1;32m   2215\u001b[0m                     \u001b[0morientation\u001b[0m\u001b[0;34m=\u001b[0m\u001b[0morientation\u001b[0m\u001b[0;34m,\u001b[0m\u001b[0;34m\u001b[0m\u001b[0;34m\u001b[0m\u001b[0m\n\u001b[1;32m   2216\u001b[0m                     \u001b[0mbbox_inches_restore\u001b[0m\u001b[0;34m=\u001b[0m\u001b[0m_bbox_inches_restore\u001b[0m\u001b[0;34m,\u001b[0m\u001b[0;34m\u001b[0m\u001b[0;34m\u001b[0m\u001b[0m\n\u001b[0;32m-> 2217\u001b[0;31m                     **kwargs)\n\u001b[0m\u001b[1;32m   2218\u001b[0m             \u001b[0;32mfinally\u001b[0m\u001b[0;34m:\u001b[0m\u001b[0;34m\u001b[0m\u001b[0;34m\u001b[0m\u001b[0m\n\u001b[1;32m   2219\u001b[0m                 \u001b[0;32mif\u001b[0m \u001b[0mbbox_inches\u001b[0m \u001b[0;32mand\u001b[0m \u001b[0mrestore_bbox\u001b[0m\u001b[0;34m:\u001b[0m\u001b[0;34m\u001b[0m\u001b[0;34m\u001b[0m\u001b[0m\n",
      "\u001b[0;32m/projects/reba1583/software/anaconda/envs/research/lib/python3.7/site-packages/matplotlib/backend_bases.py\u001b[0m in \u001b[0;36mwrapper\u001b[0;34m(*args, **kwargs)\u001b[0m\n\u001b[1;32m   1637\u001b[0m             \u001b[0mkwargs\u001b[0m\u001b[0;34m.\u001b[0m\u001b[0mpop\u001b[0m\u001b[0;34m(\u001b[0m\u001b[0marg\u001b[0m\u001b[0;34m)\u001b[0m\u001b[0;34m\u001b[0m\u001b[0;34m\u001b[0m\u001b[0m\n\u001b[1;32m   1638\u001b[0m \u001b[0;34m\u001b[0m\u001b[0m\n\u001b[0;32m-> 1639\u001b[0;31m         \u001b[0;32mreturn\u001b[0m \u001b[0mfunc\u001b[0m\u001b[0;34m(\u001b[0m\u001b[0;34m*\u001b[0m\u001b[0margs\u001b[0m\u001b[0;34m,\u001b[0m \u001b[0;34m**\u001b[0m\u001b[0mkwargs\u001b[0m\u001b[0;34m)\u001b[0m\u001b[0;34m\u001b[0m\u001b[0;34m\u001b[0m\u001b[0m\n\u001b[0m\u001b[1;32m   1640\u001b[0m \u001b[0;34m\u001b[0m\u001b[0m\n\u001b[1;32m   1641\u001b[0m     \u001b[0;32mreturn\u001b[0m \u001b[0mwrapper\u001b[0m\u001b[0;34m\u001b[0m\u001b[0;34m\u001b[0m\u001b[0m\n",
      "\u001b[0;32m/projects/reba1583/software/anaconda/envs/research/lib/python3.7/site-packages/matplotlib/backends/backend_agg.py\u001b[0m in \u001b[0;36mprint_png\u001b[0;34m(self, filename_or_obj, metadata, pil_kwargs, *args)\u001b[0m\n\u001b[1;32m    507\u001b[0m             \u001b[0;34m*\u001b[0m\u001b[0mmetadata\u001b[0m\u001b[0;34m*\u001b[0m\u001b[0;34m,\u001b[0m \u001b[0mincluding\u001b[0m \u001b[0mthe\u001b[0m \u001b[0mdefault\u001b[0m \u001b[0;34m'Software'\u001b[0m \u001b[0mkey\u001b[0m\u001b[0;34m.\u001b[0m\u001b[0;34m\u001b[0m\u001b[0;34m\u001b[0m\u001b[0m\n\u001b[1;32m    508\u001b[0m         \"\"\"\n\u001b[0;32m--> 509\u001b[0;31m         \u001b[0mFigureCanvasAgg\u001b[0m\u001b[0;34m.\u001b[0m\u001b[0mdraw\u001b[0m\u001b[0;34m(\u001b[0m\u001b[0mself\u001b[0m\u001b[0;34m)\u001b[0m\u001b[0;34m\u001b[0m\u001b[0;34m\u001b[0m\u001b[0m\n\u001b[0m\u001b[1;32m    510\u001b[0m         mpl.image.imsave(\n\u001b[1;32m    511\u001b[0m             \u001b[0mfilename_or_obj\u001b[0m\u001b[0;34m,\u001b[0m \u001b[0mself\u001b[0m\u001b[0;34m.\u001b[0m\u001b[0mbuffer_rgba\u001b[0m\u001b[0;34m(\u001b[0m\u001b[0;34m)\u001b[0m\u001b[0;34m,\u001b[0m \u001b[0mformat\u001b[0m\u001b[0;34m=\u001b[0m\u001b[0;34m\"png\"\u001b[0m\u001b[0;34m,\u001b[0m \u001b[0morigin\u001b[0m\u001b[0;34m=\u001b[0m\u001b[0;34m\"upper\"\u001b[0m\u001b[0;34m,\u001b[0m\u001b[0;34m\u001b[0m\u001b[0;34m\u001b[0m\u001b[0m\n",
      "\u001b[0;32m/projects/reba1583/software/anaconda/envs/research/lib/python3.7/site-packages/matplotlib/backends/backend_agg.py\u001b[0m in \u001b[0;36mdraw\u001b[0;34m(self)\u001b[0m\n\u001b[1;32m    400\u001b[0m     \u001b[0;32mdef\u001b[0m \u001b[0mdraw\u001b[0m\u001b[0;34m(\u001b[0m\u001b[0mself\u001b[0m\u001b[0;34m)\u001b[0m\u001b[0;34m:\u001b[0m\u001b[0;34m\u001b[0m\u001b[0;34m\u001b[0m\u001b[0m\n\u001b[1;32m    401\u001b[0m         \u001b[0;31m# docstring inherited\u001b[0m\u001b[0;34m\u001b[0m\u001b[0;34m\u001b[0m\u001b[0;34m\u001b[0m\u001b[0m\n\u001b[0;32m--> 402\u001b[0;31m         \u001b[0mself\u001b[0m\u001b[0;34m.\u001b[0m\u001b[0mrenderer\u001b[0m \u001b[0;34m=\u001b[0m \u001b[0mself\u001b[0m\u001b[0;34m.\u001b[0m\u001b[0mget_renderer\u001b[0m\u001b[0;34m(\u001b[0m\u001b[0mcleared\u001b[0m\u001b[0;34m=\u001b[0m\u001b[0;32mTrue\u001b[0m\u001b[0;34m)\u001b[0m\u001b[0;34m\u001b[0m\u001b[0;34m\u001b[0m\u001b[0m\n\u001b[0m\u001b[1;32m    403\u001b[0m         \u001b[0;31m# Acquire a lock on the shared font cache.\u001b[0m\u001b[0;34m\u001b[0m\u001b[0;34m\u001b[0m\u001b[0;34m\u001b[0m\u001b[0m\n\u001b[1;32m    404\u001b[0m         \u001b[0;32mwith\u001b[0m \u001b[0mRendererAgg\u001b[0m\u001b[0;34m.\u001b[0m\u001b[0mlock\u001b[0m\u001b[0;34m,\u001b[0m\u001b[0;31m \u001b[0m\u001b[0;31m\\\u001b[0m\u001b[0;34m\u001b[0m\u001b[0;34m\u001b[0m\u001b[0m\n",
      "\u001b[0;32m/projects/reba1583/software/anaconda/envs/research/lib/python3.7/site-packages/matplotlib/backends/backend_agg.py\u001b[0m in \u001b[0;36mget_renderer\u001b[0;34m(self, cleared)\u001b[0m\n\u001b[1;32m    416\u001b[0m                           and getattr(self, \"_lastKey\", None) == key)\n\u001b[1;32m    417\u001b[0m         \u001b[0;32mif\u001b[0m \u001b[0;32mnot\u001b[0m \u001b[0mreuse_renderer\u001b[0m\u001b[0;34m:\u001b[0m\u001b[0;34m\u001b[0m\u001b[0;34m\u001b[0m\u001b[0m\n\u001b[0;32m--> 418\u001b[0;31m             \u001b[0mself\u001b[0m\u001b[0;34m.\u001b[0m\u001b[0mrenderer\u001b[0m \u001b[0;34m=\u001b[0m \u001b[0mRendererAgg\u001b[0m\u001b[0;34m(\u001b[0m\u001b[0mw\u001b[0m\u001b[0;34m,\u001b[0m \u001b[0mh\u001b[0m\u001b[0;34m,\u001b[0m \u001b[0mself\u001b[0m\u001b[0;34m.\u001b[0m\u001b[0mfigure\u001b[0m\u001b[0;34m.\u001b[0m\u001b[0mdpi\u001b[0m\u001b[0;34m)\u001b[0m\u001b[0;34m\u001b[0m\u001b[0;34m\u001b[0m\u001b[0m\n\u001b[0m\u001b[1;32m    419\u001b[0m             \u001b[0mself\u001b[0m\u001b[0;34m.\u001b[0m\u001b[0m_lastKey\u001b[0m \u001b[0;34m=\u001b[0m \u001b[0mkey\u001b[0m\u001b[0;34m\u001b[0m\u001b[0;34m\u001b[0m\u001b[0m\n\u001b[1;32m    420\u001b[0m         \u001b[0;32melif\u001b[0m \u001b[0mcleared\u001b[0m\u001b[0;34m:\u001b[0m\u001b[0;34m\u001b[0m\u001b[0;34m\u001b[0m\u001b[0m\n",
      "\u001b[0;32m/projects/reba1583/software/anaconda/envs/research/lib/python3.7/site-packages/matplotlib/backends/backend_agg.py\u001b[0m in \u001b[0;36m__init__\u001b[0;34m(self, width, height, dpi)\u001b[0m\n\u001b[1;32m     94\u001b[0m         \u001b[0mself\u001b[0m\u001b[0;34m.\u001b[0m\u001b[0mwidth\u001b[0m \u001b[0;34m=\u001b[0m \u001b[0mwidth\u001b[0m\u001b[0;34m\u001b[0m\u001b[0;34m\u001b[0m\u001b[0m\n\u001b[1;32m     95\u001b[0m         \u001b[0mself\u001b[0m\u001b[0;34m.\u001b[0m\u001b[0mheight\u001b[0m \u001b[0;34m=\u001b[0m \u001b[0mheight\u001b[0m\u001b[0;34m\u001b[0m\u001b[0;34m\u001b[0m\u001b[0m\n\u001b[0;32m---> 96\u001b[0;31m         \u001b[0mself\u001b[0m\u001b[0;34m.\u001b[0m\u001b[0m_renderer\u001b[0m \u001b[0;34m=\u001b[0m \u001b[0m_RendererAgg\u001b[0m\u001b[0;34m(\u001b[0m\u001b[0mint\u001b[0m\u001b[0;34m(\u001b[0m\u001b[0mwidth\u001b[0m\u001b[0;34m)\u001b[0m\u001b[0;34m,\u001b[0m \u001b[0mint\u001b[0m\u001b[0;34m(\u001b[0m\u001b[0mheight\u001b[0m\u001b[0;34m)\u001b[0m\u001b[0;34m,\u001b[0m \u001b[0mdpi\u001b[0m\u001b[0;34m)\u001b[0m\u001b[0;34m\u001b[0m\u001b[0;34m\u001b[0m\u001b[0m\n\u001b[0m\u001b[1;32m     97\u001b[0m         \u001b[0mself\u001b[0m\u001b[0;34m.\u001b[0m\u001b[0m_filter_renderers\u001b[0m \u001b[0;34m=\u001b[0m \u001b[0;34m[\u001b[0m\u001b[0;34m]\u001b[0m\u001b[0;34m\u001b[0m\u001b[0;34m\u001b[0m\u001b[0m\n\u001b[1;32m     98\u001b[0m \u001b[0;34m\u001b[0m\u001b[0m\n",
      "\u001b[0;31mValueError\u001b[0m: Image size of 606x2498122 pixels is too large. It must be less than 2^16 in each direction."
     ]
    },
    {
     "data": {
      "text/plain": [
       "<Figure size 720x720 with 4 Axes>"
      ]
     },
     "metadata": {},
     "output_type": "display_data"
    }
   ],
   "source": [
    "#some annotation helpers\n",
    "import matplotlib.patheffects as path_effects\n",
    "pe = [path_effects.withStroke(linewidth=2,\n",
    "                             foreground=\"k\")]\n",
    "pe2 = [path_effects.withStroke(linewidth=2,\n",
    "                             foreground=\"w\")]\n",
    "#make a 2 row, 2 column figure of size 5\" by 5\"\n",
    "fig,axes = plt.subplots(2,2,figsize=(10,10))\n",
    "#set facecolor to white so we can copy/paste it whereever\n",
    "fig.set_facecolor('w')\n",
    "\n",
    "#list of labels for the x-axis \n",
    "labels= ['LnR','DT','RF','GBT','SVM']\n",
    "\n",
    "#loop over all trained models \n",
    "for i,model in enumerate(model_list):\n",
    "    #get predictions \n",
    "    yhat = model.predict(X_v)\n",
    "    mae = get_mae(y_v,yhat)\n",
    "    rmse = get_rmse(y_v,yhat)\n",
    "    bias = get_bias(y_v,yhat)\n",
    "    r2 = get_r2(y_v,yhat)\n",
    "    \n",
    "    ############### subplot 0,0: Bias ########################\n",
    "    ax = axes[0,0]\n",
    "    #put a bar at position i (from our loop)\n",
    "    ax.bar(i,bias,width=0.95,color=colors[i])\n",
    "    #make the annotation so we can see the numerical data on the plot \n",
    "    annotate = str(int(np.round(bias))).rjust(3, ' ')\n",
    "    ax.text(i-0.4,bias+5,annotate,color=colors[i],path_effects=pe2)\n",
    "    ##########################################################\n",
    "\n",
    "    ####### subplot 0,1: Mean Absolute Error #################\n",
    "    ax = axes[0,1]\n",
    "    #put a bar at position i (from our loop)\n",
    "    ax.bar(i,mae,width=0.95,color=colors[i])\n",
    "    #make the annotation so we can see the numerical data on the plot \n",
    "    annotate = str(int(np.round(mae))).rjust(3, ' ')\n",
    "    ax.text(i-0.4,mae+5,annotate,color=colors[i],path_effects=pe2)\n",
    "    ##########################################################\n",
    "    \n",
    "    ####### subplot 1,0: Root Mean Squared Error #############\n",
    "    ax = axes[1,0]\n",
    "    ax.bar(i,rmse,width=0.95,color=colors[i])\n",
    "    annotate = str(int(np.round(rmse))).rjust(3, ' ')\n",
    "    ax.text(i-0.4,rmse+5,annotate,color=colors[i],path_effects=pe2)\n",
    "    ##########################################################\n",
    "    \n",
    "    ####### subplot 1,1: Rsquared ###########################\n",
    "    ax = axes[1,1]\n",
    "    ax.bar(i,r2,width=0.95,color=colors[i])\n",
    "    annotate = str(np.round(r2,2)).ljust(4, '0')\n",
    "    ax.text(i-0.5,r2+0.05,annotate,color=colors[i],path_effects=pe2)\n",
    "    ##########################################################\n",
    "    \n",
    "\n",
    "    \n",
    "\n",
    "#cosmetic things: \n",
    "ax = axes[0,0]\n",
    "ax.xaxis.set_ticks(np.arange(0,5))\n",
    "ax.xaxis.set_ticklabels(labels,rotation=45)\n",
    "ax.set_ylim([-130,130])\n",
    "ax.set_title(\"Bias\")\n",
    "ax.text(0.075, 0.25, annotate_list[0], transform=ax.transAxes,fontsize=fs4,\n",
    "verticalalignment='top', bbox=props)\n",
    "\n",
    "ax = axes[0,1]\n",
    "ax.set_ylim([0,200])\n",
    "ax.xaxis.set_ticks(np.arange(0,5))\n",
    "ax.xaxis.set_ticklabels(labels,rotation=45)\n",
    "ax.set_title(\"Mean Abs. Error\")\n",
    "ax.text(0.075, 0.25, annotate_list[1], transform=ax.transAxes,fontsize=fs4,\n",
    "verticalalignment='top', bbox=props)\n",
    "\n",
    "ax = axes[1,0]\n",
    "ax.set_ylim([0,300])\n",
    "ax.xaxis.set_ticks(np.arange(0,5))\n",
    "ax.xaxis.set_ticklabels(labels,rotation=45)\n",
    "ax.set_title(\"Root Mean Sq. Error\")\n",
    "ax.text(0.075, 0.25, annotate_list[2], transform=ax.transAxes,fontsize=fs4,\n",
    "verticalalignment='top', bbox=props)\n",
    "\n",
    "ax = axes[1,1]\n",
    "ax.set_ylim([-1,1])\n",
    "ax.xaxis.set_ticks(np.arange(0,5))\n",
    "ax.xaxis.set_ticklabels(labels,rotation=45)\n",
    "ax.set_title(\"$R^{2}$\")\n",
    "ax.text(0.075, 0.25, annotate_list[3], transform=ax.transAxes,fontsize=fs4,\n",
    "verticalalignment='top', bbox=props)\n",
    "    \n",
    "# plt.tight_layout()"
   ]
  },
  {
   "cell_type": "code",
   "execution_count": null,
   "metadata": {},
   "outputs": [],
   "source": []
  }
 ],
 "metadata": {
  "kernelspec": {
   "display_name": "research",
   "language": "python",
   "name": "research"
  },
  "language_info": {
   "codemirror_mode": {
    "name": "ipython",
    "version": 3
   },
   "file_extension": ".py",
   "mimetype": "text/x-python",
   "name": "python",
   "nbconvert_exporter": "python",
   "pygments_lexer": "ipython3",
   "version": "3.7.8"
  }
 },
 "nbformat": 4,
 "nbformat_minor": 4
}
